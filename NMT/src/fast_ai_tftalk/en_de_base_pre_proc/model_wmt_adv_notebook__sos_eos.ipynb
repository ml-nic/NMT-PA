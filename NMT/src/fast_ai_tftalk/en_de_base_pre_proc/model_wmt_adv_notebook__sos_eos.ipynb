{
 "cells": [
  {
   "cell_type": "code",
   "execution_count": 8,
   "metadata": {},
   "outputs": [],
   "source": [
    "import importlib\n",
    "#import sutils; importlib.reload(sutils)\n",
    "from sutils import *\n",
    "\n",
    "import keras\n",
    "import gensim\n",
    "import re\n",
    "import pickle\n",
    "import keras.backend as K\n",
    "\n",
    "from keras import initializers\n",
    "from keras.preprocessing.sequence import pad_sequences\n",
    "from keras.models import Model, Sequential\n",
    "from keras.layers import *\n",
    "from keras.optimizers import Adam\n",
    "from keras.callbacks import ModelCheckpoint, Callback, ReduceLROnPlateau, LearningRateScheduler, EarlyStopping, TensorBoard\n",
    "from keras.callbacks import LambdaCallback\n",
    "\n",
    "\n",
    "from recurrentshop import *\n",
    "import seq2seq\n",
    "from seq2seq.models import AttentionSeq2Seq,SimpleSeq2Seq, Seq2Seq\n",
    "\n",
    "import tensorflow as tf\n",
    "from keras_tqdm import TQDMNotebookCallback"
   ]
  },
  {
   "cell_type": "code",
   "execution_count": 9,
   "metadata": {},
   "outputs": [
    {
     "name": "stdout",
     "output_type": "stream",
     "text": [
      "2.0.8\n",
      "1.3.0\n"
     ]
    }
   ],
   "source": [
    "print(keras.__version__)\n",
    "print(tf.__version__)"
   ]
  },
  {
   "cell_type": "code",
   "execution_count": 10,
   "metadata": {},
   "outputs": [],
   "source": [
    "from gensim.models import word2vec\n",
    "\n",
    "path = '../neural_translation_en_de/'\n",
    "dpath = '../neural_translation_en_de/translate/'"
   ]
  },
  {
   "cell_type": "code",
   "execution_count": 11,
   "metadata": {},
   "outputs": [],
   "source": [
    "\n",
    "# ### Set up Regex and tokenize for use later\n",
    "\n",
    "re_mult_space = re.compile(r\"  *\")\n",
    "re_mw_punc = re.compile(r\"(\\w[’'])(\\w)\")\n",
    "re_punc = re.compile(\"([\\\"().,;:/_?!—])\")\n",
    "re_apos = re.compile(r\"(\\w)'s\\b\")\n",
    "\n",
    "\n",
    "def simple_toks(sent):\n",
    "    sent = re_apos.sub(r\"\\1 's\", sent)\n",
    "    sent = re_mw_punc.sub(r\"\\1 \\2\", sent)\n",
    "    sent = re_punc.sub(r\" \\1 \", sent).replace('-', ' ')\n",
    "    sent = re_mult_space.sub(' ', sent)\n",
    "    return sent.lower().split()"
   ]
  },
  {
   "cell_type": "code",
   "execution_count": 12,
   "metadata": {},
   "outputs": [],
   "source": [
    "\n",
    "# ## Load the PreProcessed data\n",
    "# \n",
    "# Here we load all the data \n",
    "\n",
    "data = load(dpath+'nmt_datawmtsmall_sos_eos.pkl')\n",
    "look_ups = load(dpath+'look_upswmtsmall_sos_eos.pkl')\n",
    "fr_train = data['fr_train']\n",
    "fr_test = data['fr_test']\n",
    "en_train = data['en_train']\n",
    "en_test = data['en_test']\n",
    "en_w2id = look_ups['en_w2id']\n",
    "fr_vocab = look_ups['fr_vocab']\n",
    "en_vocab = look_ups['en_vocab']\n",
    "en_embs = look_ups['en_embs']\n",
    "fr_embs = look_ups['fr_embs']\n",
    "\n",
    "questions = load(dpath+'questionswmt.pkl')\n",
    "#print(questions[10])\n",
    "en_qs, fr_qs = zip(*questions)"
   ]
  },
  {
   "cell_type": "code",
   "execution_count": 6,
   "metadata": {},
   "outputs": [
    {
     "name": "stdout",
     "output_type": "stream",
     "text": [
      "(100000, 100)\n",
      "(100000, 100)\n"
     ]
    }
   ],
   "source": [
    "print(fr_train.shape)\n",
    "print(en_train.shape)"
   ]
  },
  {
   "cell_type": "code",
   "execution_count": 14,
   "metadata": {},
   "outputs": [],
   "source": [
    "with(open(\"en_de_trans_testing_basic_wmt_advsmall_sos_eos_validation_data.txt\", 'w', encoding='utf8')) as file:\n",
    "    for q in fr_test:\n",
    "        tt = \"\"\n",
    "        for a in q:\n",
    "            tok = fr_vocab[a]\n",
    "            if tok not in [\"<SOS>\",\"<EOS>\",\"<PAD>\"]:\n",
    "                tt += tok + \" \"\n",
    "        file.write(tt + '\\n')"
   ]
  },
  {
   "cell_type": "code",
   "execution_count": 7,
   "metadata": {},
   "outputs": [],
   "source": [
    "\n",
    "# ## Model\n",
    "\n",
    "# #### Create some Keras Callbacks to handle early stopping and Learning Rate changes\n",
    "\n",
    "# In[10]:\n",
    "\n",
    "\n",
    "reduce_LR = ReduceLROnPlateau(monitor='val_loss',factor = 0.5, patience=0,cooldown=1, min_lr = 0.00001)\n",
    "early_stopping = EarlyStopping(monitor='val_loss',min_delta=0,patience=4,verbose=0,mode='auto')\n",
    "\n",
    "import math\n",
    "\n",
    "# learning rate schedule for dropping every 10 epochs\n",
    "def LRDropping(epoch):\n",
    "    initial_lrate = 0.001\n",
    "    drop = 0.9\n",
    "    epochs_drop = 3.0\n",
    "    lrate = initial_lrate * math.pow(drop, math.floor((1+epoch)/epochs_drop))\n",
    "    return lrate\n",
    "\n",
    "# try at manual setting of LR for Epochs\n",
    "def fixed_dropping(epoch):\n",
    "    if epoch < 2: \n",
    "        lrate = 0.01\n",
    "    elif epoch < 4: \n",
    "        lrate = 0.001\n",
    "    elif epoch < 7: \n",
    "        lrate = 0.0005\n",
    "    else:\n",
    "        lrate = 0.0001\n",
    "    print(lrate)\n",
    "    return lrate\n",
    "\n",
    "LRDrop = LearningRateScheduler(fixed_dropping)\n",
    "\n",
    "\n",
    "# In[11]:\n",
    "\n",
    "tbCallBack = TensorBoard(log_dir='/data/model_newGraphadvsmall_sos_eos', write_graph=True)\n",
    "modelCallback = ModelCheckpoint(\n",
    "            'model_checkpoint_advsmall_sos_eos.{epoch:03d}-{loss:.3f}.hdf5',\n",
    "            monitor='val_loss', verbose=1, save_best_only=False,\n",
    "            save_weights_only=True, mode='auto',\n",
    "            period=1)\n",
    "\n",
    "# creating different sets of Params to easily import into the model at train time\n",
    "params = {'verbose': 1, 'callbacks': [TQDMNotebookCallback(),reduce_LR,early_stopping,tbCallBack,modelCallback]}\n",
    "params2 = {'verbose': 1, 'callbacks': [LRDrop,TQDMNotebookCallback(),reduce_LR,early_stopping]}\n",
    "params3 = {'verbose': 1, 'callbacks': [LRDrop,TQDMNotebookCallback(),reduce_LR,early_stopping]}"
   ]
  },
  {
   "cell_type": "code",
   "execution_count": 8,
   "metadata": {},
   "outputs": [],
   "source": [
    "\n",
    "\n",
    "# #### Set some parameters for the model\n",
    "\n",
    "# In[12]:\n",
    "\n",
    "\n",
    "lr = 1e-3\n",
    "maxlen = 100\n",
    "dim_en_vec = 200\n",
    "n_en_vec = 400000\n",
    "dim_fr_vec = 200\n",
    "\n",
    "vocab_size = len(fr_vocab) #the output vocab # embeddings.shape[0]\n",
    "embedding_size = 200 #The english inputs embeddings embeddings.shape[1]\n",
    "\n",
    "\n",
    "fr_wgts = [fr_embs.T, np.zeros((len(fr_vocab,)))]"
   ]
  },
  {
   "cell_type": "code",
   "execution_count": 10,
   "metadata": {},
   "outputs": [
    {
     "name": "stdout",
     "output_type": "stream",
     "text": [
      "_________________________________________________________________\n",
      "Layer (type)                 Output Shape              Param #   \n",
      "=================================================================\n",
      "input_1 (InputLayer)         (None, 100)               0         \n",
      "_________________________________________________________________\n",
      "embedding_1 (Embedding)      (None, 100, 200)          8000600   \n",
      "_________________________________________________________________\n",
      "bidirectional_1 (Bidirection (None, 100, 256)          336896    \n",
      "_________________________________________________________________\n",
      "bidirectional_2 (Bidirection (None, 100, 256)          394240    \n",
      "_________________________________________________________________\n",
      "lstm_3 (LSTM)                (None, 100, 128)          197120    \n",
      "_________________________________________________________________\n",
      "time_distributed_1 (TimeDist (None, 100, 200)          25800     \n",
      "_________________________________________________________________\n",
      "time_distributed_2 (TimeDist (None, 100, 40003)        8040603   \n",
      "_________________________________________________________________\n",
      "activation_1 (Activation)    (None, 100, 40003)        0         \n",
      "=================================================================\n",
      "Total params: 16,995,259\n",
      "Trainable params: 8,994,659\n",
      "Non-trainable params: 8,000,600\n",
      "_________________________________________________________________\n"
     ]
    }
   ],
   "source": [
    "# ### The model itself\n",
    "\n",
    "# Base Model big\n",
    "inp = Input((maxlen,))\n",
    "x = Embedding(40003, dim_en_vec, input_length=maxlen,\n",
    "              weights=[en_embs], trainable=False)(inp)\n",
    "x = Bidirectional(LSTM(128, return_sequences=True))(x)\n",
    "x = Bidirectional(LSTM(128, return_sequences=True))(x)\n",
    "x = LSTM(128, return_sequences=True)(x)\n",
    "x = TimeDistributed(Dense(dim_fr_vec))(x)\n",
    "x = TimeDistributed(Dense(40003, weights=fr_wgts))(x)\n",
    "x = Activation('softmax')(x)\n",
    "\n",
    "model = Model(inp, x)\n",
    "model.compile('adam', 'sparse_categorical_crossentropy')\n",
    "\n",
    "\n",
    "K.set_value(model.optimizer.lr, lr)\n",
    "model.summary()"
   ]
  },
  {
   "cell_type": "code",
   "execution_count": 17,
   "metadata": {},
   "outputs": [
    {
     "name": "stdout",
     "output_type": "stream",
     "text": [
      "Train on 100000 samples, validate on 10000 samples\n"
     ]
    },
    {
     "data": {
      "application/vnd.jupyter.widget-view+json": {
       "model_id": "0302021259e749e0805f73083b537ca9",
       "version_major": 2,
       "version_minor": 0
      },
      "text/html": [
       "<p>Failed to display Jupyter Widget of type <code>HBox</code>.</p>\n",
       "<p>\n",
       "  If you're reading this message in Jupyter Notebook or JupyterLab, it may mean\n",
       "  that the widgets JavaScript is still loading. If this message persists, it\n",
       "  likely means that the widgets JavaScript library is either not installed or\n",
       "  not enabled. See the <a href=\"https://ipywidgets.readthedocs.io/en/stable/user_install.html\">Jupyter\n",
       "  Widgets Documentation</a> for setup instructions.\n",
       "</p>\n",
       "<p>\n",
       "  If you're reading this message in another notebook frontend (for example, a static\n",
       "  rendering on GitHub or <a href=\"https://nbviewer.jupyter.org/\">NBViewer</a>),\n",
       "  it may mean that your frontend doesn't currently support widgets.\n",
       "</p>\n"
      ],
      "text/plain": [
       "HBox(children=(IntProgress(value=0, description='Training', max=10), HTML(value='')))"
      ]
     },
     "metadata": {},
     "output_type": "display_data"
    },
    {
     "data": {
      "application/vnd.jupyter.widget-view+json": {
       "model_id": "2fdf7bdde0d840f7a87f06b73c3f86bd",
       "version_major": 2,
       "version_minor": 0
      },
      "text/html": [
       "<p>Failed to display Jupyter Widget of type <code>HBox</code>.</p>\n",
       "<p>\n",
       "  If you're reading this message in Jupyter Notebook or JupyterLab, it may mean\n",
       "  that the widgets JavaScript is still loading. If this message persists, it\n",
       "  likely means that the widgets JavaScript library is either not installed or\n",
       "  not enabled. See the <a href=\"https://ipywidgets.readthedocs.io/en/stable/user_install.html\">Jupyter\n",
       "  Widgets Documentation</a> for setup instructions.\n",
       "</p>\n",
       "<p>\n",
       "  If you're reading this message in another notebook frontend (for example, a static\n",
       "  rendering on GitHub or <a href=\"https://nbviewer.jupyter.org/\">NBViewer</a>),\n",
       "  it may mean that your frontend doesn't currently support widgets.\n",
       "</p>\n"
      ],
      "text/plain": [
       "HBox(children=(IntProgress(value=0, description='Epoch 0', max=100000), HTML(value='')))"
      ]
     },
     "metadata": {},
     "output_type": "display_data"
    },
    {
     "name": "stdout",
     "output_type": "stream",
     "text": [
      "Epoch 1/10\n",
      " 99936/100000 [============================>.] - ETA: 0s - loss: 1.9016Epoch 00000: saving model to model_checkpoint_advsmall_sos_eos.000-1.902.hdf5\n",
      "100000/100000 [==============================] - 1166s - loss: 1.9016 - val_loss: 1.7026\n"
     ]
    },
    {
     "data": {
      "application/vnd.jupyter.widget-view+json": {
       "model_id": "f101f9bcefa44c0692fb6d529df3f6f2",
       "version_major": 2,
       "version_minor": 0
      },
      "text/html": [
       "<p>Failed to display Jupyter Widget of type <code>HBox</code>.</p>\n",
       "<p>\n",
       "  If you're reading this message in Jupyter Notebook or JupyterLab, it may mean\n",
       "  that the widgets JavaScript is still loading. If this message persists, it\n",
       "  likely means that the widgets JavaScript library is either not installed or\n",
       "  not enabled. See the <a href=\"https://ipywidgets.readthedocs.io/en/stable/user_install.html\">Jupyter\n",
       "  Widgets Documentation</a> for setup instructions.\n",
       "</p>\n",
       "<p>\n",
       "  If you're reading this message in another notebook frontend (for example, a static\n",
       "  rendering on GitHub or <a href=\"https://nbviewer.jupyter.org/\">NBViewer</a>),\n",
       "  it may mean that your frontend doesn't currently support widgets.\n",
       "</p>\n"
      ],
      "text/plain": [
       "HBox(children=(IntProgress(value=0, description='Epoch 1', max=100000), HTML(value='')))"
      ]
     },
     "metadata": {},
     "output_type": "display_data"
    },
    {
     "name": "stdout",
     "output_type": "stream",
     "text": [
      "Epoch 2/10\n",
      " 99936/100000 [============================>.] - ETA: 0s - loss: 1.6877Epoch 00001: saving model to model_checkpoint_advsmall_sos_eos.001-1.688.hdf5\n",
      "100000/100000 [==============================] - 1166s - loss: 1.6877 - val_loss: 1.6601\n"
     ]
    },
    {
     "data": {
      "application/vnd.jupyter.widget-view+json": {
       "model_id": "dc77934a23da42b3876b9a4f2b20a776",
       "version_major": 2,
       "version_minor": 0
      },
      "text/html": [
       "<p>Failed to display Jupyter Widget of type <code>HBox</code>.</p>\n",
       "<p>\n",
       "  If you're reading this message in Jupyter Notebook or JupyterLab, it may mean\n",
       "  that the widgets JavaScript is still loading. If this message persists, it\n",
       "  likely means that the widgets JavaScript library is either not installed or\n",
       "  not enabled. See the <a href=\"https://ipywidgets.readthedocs.io/en/stable/user_install.html\">Jupyter\n",
       "  Widgets Documentation</a> for setup instructions.\n",
       "</p>\n",
       "<p>\n",
       "  If you're reading this message in another notebook frontend (for example, a static\n",
       "  rendering on GitHub or <a href=\"https://nbviewer.jupyter.org/\">NBViewer</a>),\n",
       "  it may mean that your frontend doesn't currently support widgets.\n",
       "</p>\n"
      ],
      "text/plain": [
       "HBox(children=(IntProgress(value=0, description='Epoch 2', max=100000), HTML(value='')))"
      ]
     },
     "metadata": {},
     "output_type": "display_data"
    },
    {
     "name": "stdout",
     "output_type": "stream",
     "text": [
      "Epoch 3/10\n",
      " 99936/100000 [============================>.] - ETA: 0s - loss: 1.6486Epoch 00002: saving model to model_checkpoint_advsmall_sos_eos.002-1.649.hdf5\n",
      "100000/100000 [==============================] - 1166s - loss: 1.6487 - val_loss: 1.6239\n"
     ]
    },
    {
     "data": {
      "application/vnd.jupyter.widget-view+json": {
       "model_id": "85b828ce71b944d28d349a9042455e0f",
       "version_major": 2,
       "version_minor": 0
      },
      "text/html": [
       "<p>Failed to display Jupyter Widget of type <code>HBox</code>.</p>\n",
       "<p>\n",
       "  If you're reading this message in Jupyter Notebook or JupyterLab, it may mean\n",
       "  that the widgets JavaScript is still loading. If this message persists, it\n",
       "  likely means that the widgets JavaScript library is either not installed or\n",
       "  not enabled. See the <a href=\"https://ipywidgets.readthedocs.io/en/stable/user_install.html\">Jupyter\n",
       "  Widgets Documentation</a> for setup instructions.\n",
       "</p>\n",
       "<p>\n",
       "  If you're reading this message in another notebook frontend (for example, a static\n",
       "  rendering on GitHub or <a href=\"https://nbviewer.jupyter.org/\">NBViewer</a>),\n",
       "  it may mean that your frontend doesn't currently support widgets.\n",
       "</p>\n"
      ],
      "text/plain": [
       "HBox(children=(IntProgress(value=0, description='Epoch 3', max=100000), HTML(value='')))"
      ]
     },
     "metadata": {},
     "output_type": "display_data"
    },
    {
     "name": "stdout",
     "output_type": "stream",
     "text": [
      "Epoch 4/10\n",
      " 99936/100000 [============================>.] - ETA: 0s - loss: 1.6126Epoch 00003: saving model to model_checkpoint_advsmall_sos_eos.003-1.613.hdf5\n",
      "100000/100000 [==============================] - 1169s - loss: 1.6126 - val_loss: 1.5961\n"
     ]
    },
    {
     "data": {
      "application/vnd.jupyter.widget-view+json": {
       "model_id": "deacb3a1dd90480eb599369d157f8a80",
       "version_major": 2,
       "version_minor": 0
      },
      "text/html": [
       "<p>Failed to display Jupyter Widget of type <code>HBox</code>.</p>\n",
       "<p>\n",
       "  If you're reading this message in Jupyter Notebook or JupyterLab, it may mean\n",
       "  that the widgets JavaScript is still loading. If this message persists, it\n",
       "  likely means that the widgets JavaScript library is either not installed or\n",
       "  not enabled. See the <a href=\"https://ipywidgets.readthedocs.io/en/stable/user_install.html\">Jupyter\n",
       "  Widgets Documentation</a> for setup instructions.\n",
       "</p>\n",
       "<p>\n",
       "  If you're reading this message in another notebook frontend (for example, a static\n",
       "  rendering on GitHub or <a href=\"https://nbviewer.jupyter.org/\">NBViewer</a>),\n",
       "  it may mean that your frontend doesn't currently support widgets.\n",
       "</p>\n"
      ],
      "text/plain": [
       "HBox(children=(IntProgress(value=0, description='Epoch 4', max=100000), HTML(value='')))"
      ]
     },
     "metadata": {},
     "output_type": "display_data"
    },
    {
     "name": "stdout",
     "output_type": "stream",
     "text": [
      "Epoch 5/10\n",
      " 99936/100000 [============================>.] - ETA: 0s - loss: 1.5739Epoch 00004: saving model to model_checkpoint_advsmall_sos_eos.004-1.574.hdf5\n",
      "100000/100000 [==============================] - 1167s - loss: 1.5739 - val_loss: 1.5668\n"
     ]
    },
    {
     "data": {
      "application/vnd.jupyter.widget-view+json": {
       "model_id": "2820bfe2165348d4ab0081e97bb067a4",
       "version_major": 2,
       "version_minor": 0
      },
      "text/html": [
       "<p>Failed to display Jupyter Widget of type <code>HBox</code>.</p>\n",
       "<p>\n",
       "  If you're reading this message in Jupyter Notebook or JupyterLab, it may mean\n",
       "  that the widgets JavaScript is still loading. If this message persists, it\n",
       "  likely means that the widgets JavaScript library is either not installed or\n",
       "  not enabled. See the <a href=\"https://ipywidgets.readthedocs.io/en/stable/user_install.html\">Jupyter\n",
       "  Widgets Documentation</a> for setup instructions.\n",
       "</p>\n",
       "<p>\n",
       "  If you're reading this message in another notebook frontend (for example, a static\n",
       "  rendering on GitHub or <a href=\"https://nbviewer.jupyter.org/\">NBViewer</a>),\n",
       "  it may mean that your frontend doesn't currently support widgets.\n",
       "</p>\n"
      ],
      "text/plain": [
       "HBox(children=(IntProgress(value=0, description='Epoch 5', max=100000), HTML(value='')))"
      ]
     },
     "metadata": {},
     "output_type": "display_data"
    },
    {
     "name": "stdout",
     "output_type": "stream",
     "text": [
      "Epoch 6/10\n",
      " 99936/100000 [============================>.] - ETA: 0s - loss: 1.5397Epoch 00005: saving model to model_checkpoint_advsmall_sos_eos.005-1.540.hdf5\n",
      "100000/100000 [==============================] - 1165s - loss: 1.5397 - val_loss: 1.5467\n"
     ]
    },
    {
     "data": {
      "application/vnd.jupyter.widget-view+json": {
       "model_id": "99012dfafbc34262b7bf5bdcc7fe2a27",
       "version_major": 2,
       "version_minor": 0
      },
      "text/html": [
       "<p>Failed to display Jupyter Widget of type <code>HBox</code>.</p>\n",
       "<p>\n",
       "  If you're reading this message in Jupyter Notebook or JupyterLab, it may mean\n",
       "  that the widgets JavaScript is still loading. If this message persists, it\n",
       "  likely means that the widgets JavaScript library is either not installed or\n",
       "  not enabled. See the <a href=\"https://ipywidgets.readthedocs.io/en/stable/user_install.html\">Jupyter\n",
       "  Widgets Documentation</a> for setup instructions.\n",
       "</p>\n",
       "<p>\n",
       "  If you're reading this message in another notebook frontend (for example, a static\n",
       "  rendering on GitHub or <a href=\"https://nbviewer.jupyter.org/\">NBViewer</a>),\n",
       "  it may mean that your frontend doesn't currently support widgets.\n",
       "</p>\n"
      ],
      "text/plain": [
       "HBox(children=(IntProgress(value=0, description='Epoch 6', max=100000), HTML(value='')))"
      ]
     },
     "metadata": {},
     "output_type": "display_data"
    },
    {
     "name": "stdout",
     "output_type": "stream",
     "text": [
      "Epoch 7/10\n",
      " 99936/100000 [============================>.] - ETA: 0s - loss: 1.5092Epoch 00006: saving model to model_checkpoint_advsmall_sos_eos.006-1.509.hdf5\n",
      "100000/100000 [==============================] - 1165s - loss: 1.5092 - val_loss: 1.5308\n"
     ]
    },
    {
     "data": {
      "application/vnd.jupyter.widget-view+json": {
       "model_id": "c254d6c669f8463bae1b52918bf57e45",
       "version_major": 2,
       "version_minor": 0
      },
      "text/html": [
       "<p>Failed to display Jupyter Widget of type <code>HBox</code>.</p>\n",
       "<p>\n",
       "  If you're reading this message in Jupyter Notebook or JupyterLab, it may mean\n",
       "  that the widgets JavaScript is still loading. If this message persists, it\n",
       "  likely means that the widgets JavaScript library is either not installed or\n",
       "  not enabled. See the <a href=\"https://ipywidgets.readthedocs.io/en/stable/user_install.html\">Jupyter\n",
       "  Widgets Documentation</a> for setup instructions.\n",
       "</p>\n",
       "<p>\n",
       "  If you're reading this message in another notebook frontend (for example, a static\n",
       "  rendering on GitHub or <a href=\"https://nbviewer.jupyter.org/\">NBViewer</a>),\n",
       "  it may mean that your frontend doesn't currently support widgets.\n",
       "</p>\n"
      ],
      "text/plain": [
       "HBox(children=(IntProgress(value=0, description='Epoch 7', max=100000), HTML(value='')))"
      ]
     },
     "metadata": {},
     "output_type": "display_data"
    },
    {
     "name": "stdout",
     "output_type": "stream",
     "text": [
      "Epoch 8/10\n",
      " 99936/100000 [============================>.] - ETA: 0s - loss: 1.4815Epoch 00007: saving model to model_checkpoint_advsmall_sos_eos.007-1.481.hdf5\n",
      "100000/100000 [==============================] - 1167s - loss: 1.4814 - val_loss: 1.5134\n"
     ]
    },
    {
     "data": {
      "application/vnd.jupyter.widget-view+json": {
       "model_id": "bf4c239dc1d8454a969506b063d7c5fa",
       "version_major": 2,
       "version_minor": 0
      },
      "text/html": [
       "<p>Failed to display Jupyter Widget of type <code>HBox</code>.</p>\n",
       "<p>\n",
       "  If you're reading this message in Jupyter Notebook or JupyterLab, it may mean\n",
       "  that the widgets JavaScript is still loading. If this message persists, it\n",
       "  likely means that the widgets JavaScript library is either not installed or\n",
       "  not enabled. See the <a href=\"https://ipywidgets.readthedocs.io/en/stable/user_install.html\">Jupyter\n",
       "  Widgets Documentation</a> for setup instructions.\n",
       "</p>\n",
       "<p>\n",
       "  If you're reading this message in another notebook frontend (for example, a static\n",
       "  rendering on GitHub or <a href=\"https://nbviewer.jupyter.org/\">NBViewer</a>),\n",
       "  it may mean that your frontend doesn't currently support widgets.\n",
       "</p>\n"
      ],
      "text/plain": [
       "HBox(children=(IntProgress(value=0, description='Epoch 8', max=100000), HTML(value='')))"
      ]
     },
     "metadata": {},
     "output_type": "display_data"
    },
    {
     "name": "stdout",
     "output_type": "stream",
     "text": [
      "Epoch 9/10\n",
      " 99936/100000 [============================>.] - ETA: 0s - loss: 1.4572Epoch 00008: saving model to model_checkpoint_advsmall_sos_eos.008-1.457.hdf5\n",
      "100000/100000 [==============================] - 1173s - loss: 1.4572 - val_loss: 1.5077\n"
     ]
    },
    {
     "data": {
      "application/vnd.jupyter.widget-view+json": {
       "model_id": "1ea4a38a7d5740b88b9bc89bf8df6cea",
       "version_major": 2,
       "version_minor": 0
      },
      "text/html": [
       "<p>Failed to display Jupyter Widget of type <code>HBox</code>.</p>\n",
       "<p>\n",
       "  If you're reading this message in Jupyter Notebook or JupyterLab, it may mean\n",
       "  that the widgets JavaScript is still loading. If this message persists, it\n",
       "  likely means that the widgets JavaScript library is either not installed or\n",
       "  not enabled. See the <a href=\"https://ipywidgets.readthedocs.io/en/stable/user_install.html\">Jupyter\n",
       "  Widgets Documentation</a> for setup instructions.\n",
       "</p>\n",
       "<p>\n",
       "  If you're reading this message in another notebook frontend (for example, a static\n",
       "  rendering on GitHub or <a href=\"https://nbviewer.jupyter.org/\">NBViewer</a>),\n",
       "  it may mean that your frontend doesn't currently support widgets.\n",
       "</p>\n"
      ],
      "text/plain": [
       "HBox(children=(IntProgress(value=0, description='Epoch 9', max=100000), HTML(value='')))"
      ]
     },
     "metadata": {},
     "output_type": "display_data"
    },
    {
     "name": "stdout",
     "output_type": "stream",
     "text": [
      "Epoch 10/10\n",
      " 99936/100000 [============================>.] - ETA: 0s - loss: 1.4347Epoch 00009: saving model to model_checkpoint_advsmall_sos_eos.009-1.435.hdf5\n",
      "100000/100000 [==============================] - 1180s - loss: 1.4347 - val_loss: 1.4987\n",
      "\n"
     ]
    }
   ],
   "source": [
    "hist=model.fit(en_train, np.expand_dims(fr_train,axis=-1), batch_size=96, epochs=10, **params, \n",
    "               validation_data=[en_test, np.expand_dims(fr_test,axis=-1)])"
   ]
  },
  {
   "cell_type": "code",
   "execution_count": 18,
   "metadata": {},
   "outputs": [
    {
     "name": "stdout",
     "output_type": "stream",
     "text": [
      "val_loss [1.7026262500762939, 1.6600659847259522, 1.6239113521575927, 1.5961462699890137, 1.566829411125183, 1.5466777776718139, 1.530811954498291, 1.5133725261688233, 1.50771849899292, 1.4986772632598877]\n",
      "lr [0.001, 0.001, 0.001, 0.001, 0.001, 0.001, 0.001, 0.001, 0.001, 0.001]\n",
      "loss [1.9015577894973754, 1.6877409396362304, 1.6487380973052979, 1.6125537256240845, 1.573933941192627, 1.5396619909667968, 1.5092284375381471, 1.4813842681503295, 1.4571974723815917, 1.4346988384628296]\n"
     ]
    }
   ],
   "source": [
    "#plot_train(hist)\n",
    "for a in hist.history:\n",
    "    print(a, hist.history[a])\n"
   ]
  },
  {
   "cell_type": "code",
   "execution_count": 11,
   "metadata": {},
   "outputs": [],
   "source": [
    "weight_identifier = \"trans_testing_basic_wmt_advsmall_sos_eos\"\n",
    "#model.save_weights(dpath + weight_identifier + '.h5')\n",
    "model.load_weights(dpath + weight_identifier + '.h5')"
   ]
  },
  {
   "cell_type": "code",
   "execution_count": 12,
   "metadata": {},
   "outputs": [],
   "source": [
    "# ## Testing\n",
    "\n",
    "def sent2ids(sent):\n",
    "    sent = simple_toks(sent)\n",
    "    ids = []\n",
    "    ids.append(en_w2id[\"<SOS>\"])\n",
    "    for t in sent:\n",
    "        try:\n",
    "            ids.append(en_w2id[t])\n",
    "        except KeyError:\n",
    "            pass\n",
    "    ids.append(en_w2id[\"<EOS>\"])\n",
    "    return pad_sequences([ids], maxlen, padding=\"post\", truncating=\"post\")\n",
    "\n",
    "def en2fr(sent): \n",
    "    ids = sent2ids(sent)\n",
    "    tr_ids = np.argmax(model.predict(ids), axis=-1)\n",
    "    return ' '.join(fr_vocab[i] for i in tr_ids[0] if i>0)\n"
   ]
  },
  {
   "cell_type": "code",
   "execution_count": 13,
   "metadata": {},
   "outputs": [
    {
     "data": {
      "text/plain": [
       "'<SOS> was ist die der der ? ?'"
      ]
     },
     "execution_count": 13,
     "metadata": {},
     "output_type": "execute_result"
    }
   ],
   "source": [
    "en2fr(\"what is the size of canada?\")"
   ]
  },
  {
   "cell_type": "code",
   "execution_count": 14,
   "metadata": {},
   "outputs": [
    {
     "data": {
      "text/plain": [
       "'<SOS> was ist die der der ? ?'"
      ]
     },
     "execution_count": 14,
     "metadata": {},
     "output_type": "execute_result"
    }
   ],
   "source": [
    "en2fr(\"what is the size of australia?\")"
   ]
  },
  {
   "cell_type": "code",
   "execution_count": 15,
   "metadata": {},
   "outputs": [
    {
     "data": {
      "text/plain": [
       "'<SOS> was ist ist ? <EOS>'"
      ]
     },
     "execution_count": 15,
     "metadata": {},
     "output_type": "execute_result"
    }
   ],
   "source": [
    "en2fr(\"What is light?\")"
   ]
  },
  {
   "cell_type": "code",
   "execution_count": 16,
   "metadata": {},
   "outputs": [
    {
     "data": {
      "text/plain": [
       "'<SOS> warum ist die der der der der der'"
      ]
     },
     "execution_count": 16,
     "metadata": {},
     "output_type": "execute_result"
    }
   ],
   "source": [
    "en2fr(\"Why is the Arctic ozone layer thicker than the Antarctic ozone layer?\")"
   ]
  },
  {
   "cell_type": "code",
   "execution_count": 17,
   "metadata": {},
   "outputs": [
    {
     "data": {
      "text/plain": [
       "'<SOS> das ist ist die der <EOS>'"
      ]
     },
     "execution_count": 17,
     "metadata": {},
     "output_type": "execute_result"
    }
   ],
   "source": [
    "en2fr(\"Which province is the most populated?\")"
   ]
  },
  {
   "cell_type": "code",
   "execution_count": 18,
   "metadata": {},
   "outputs": [
    {
     "data": {
      "text/plain": [
       "'<SOS> wer sind wir <EOS> <EOS>'"
      ]
     },
     "execution_count": 18,
     "metadata": {},
     "output_type": "execute_result"
    }
   ],
   "source": [
    "en2fr(\"Who are we?\")"
   ]
  },
  {
   "cell_type": "code",
   "execution_count": 19,
   "metadata": {},
   "outputs": [
    {
     "data": {
      "text/plain": [
       "'<SOS> was sollten wir wir nicht <EOS> <EOS>'"
      ]
     },
     "execution_count": 19,
     "metadata": {},
     "output_type": "execute_result"
    }
   ],
   "source": [
    "en2fr(\"What would we do without it?\")"
   ]
  },
  {
   "cell_type": "code",
   "execution_count": 20,
   "metadata": {},
   "outputs": [
    {
     "data": {
      "text/plain": [
       "'<SOS> – <EOS> <EOS>'"
      ]
     },
     "execution_count": 20,
     "metadata": {},
     "output_type": "execute_result"
    }
   ],
   "source": [
    "en2fr(\"Hello Tom\")"
   ]
  },
  {
   "cell_type": "markdown",
   "metadata": {},
   "source": [
    "## Prediction"
   ]
  },
  {
   "cell_type": "code",
   "execution_count": 21,
   "metadata": {},
   "outputs": [
    {
     "name": "stdout",
     "output_type": "stream",
     "text": [
      "30563\n",
      "0\n",
      "305\n",
      "610\n",
      "915\n",
      "1220\n",
      "1525\n",
      "1830\n",
      "2135\n",
      "2440\n",
      "2745\n",
      "3050\n",
      "3355\n",
      "3660\n",
      "3965\n",
      "4270\n",
      "4575\n",
      "4880\n",
      "5185\n",
      "5490\n",
      "5795\n",
      "6100\n",
      "6405\n",
      "6710\n",
      "7015\n",
      "7320\n",
      "7625\n",
      "7930\n",
      "8235\n",
      "8540\n",
      "8845\n",
      "9150\n",
      "9455\n",
      "9760\n",
      "10065\n",
      "10370\n",
      "10675\n",
      "10980\n",
      "11285\n",
      "11590\n",
      "11895\n",
      "12200\n",
      "12505\n",
      "12810\n",
      "13115\n",
      "13420\n",
      "13725\n",
      "14030\n",
      "14335\n",
      "14640\n",
      "14945\n",
      "15250\n",
      "15555\n",
      "15860\n",
      "16165\n",
      "16470\n",
      "16775\n",
      "17080\n",
      "17385\n",
      "17690\n",
      "17995\n",
      "18300\n",
      "18605\n",
      "18910\n",
      "19215\n",
      "19520\n",
      "19825\n",
      "20130\n",
      "20435\n",
      "20740\n",
      "21045\n",
      "21350\n",
      "21655\n",
      "21960\n",
      "22265\n",
      "22570\n",
      "22875\n",
      "23180\n",
      "23485\n",
      "23790\n",
      "24095\n",
      "24400\n",
      "24705\n",
      "25010\n",
      "25315\n",
      "25620\n",
      "25925\n",
      "26230\n",
      "26535\n",
      "26840\n",
      "27145\n",
      "27450\n",
      "27755\n",
      "28060\n",
      "28365\n",
      "28670\n",
      "28975\n",
      "29280\n",
      "29585\n",
      "29890\n",
      "30195\n",
      "30500\n",
      "30563\n"
     ]
    }
   ],
   "source": [
    "import os\n",
    "\n",
    "source_file = \"/data/wrapper/PA_BA/DataSets/Validation/DE_EN_(tatoeba)_validation_english_only.txt\"\n",
    "if os.path.exists(source_file) is False:\n",
    "    exit(\"source file does not exists\")\n",
    "\n",
    "source_sentences = open(source_file, encoding='UTF-8').read().split('\\n')\n",
    "print(len(source_sentences))\n",
    "\n",
    "translated_sentences = []\n",
    "i = 0\n",
    "for sent in source_sentences:\n",
    "    if i % int((len(source_sentences) / 100)) == 0:\n",
    "        print(i)\n",
    "    translated_sentences.append(en2fr(sent))\n",
    "    i += 1\n",
    "print(len(translated_sentences))"
   ]
  },
  {
   "cell_type": "code",
   "execution_count": 22,
   "metadata": {},
   "outputs": [],
   "source": [
    "out_file = os.path.join(os.path.abspath(os.path.join(source_file, os.pardir)), weight_identifier + \".pred\")\n",
    "with(open(out_file, 'w', encoding='utf8')) as file:\n",
    "    for sent in translated_sentences:\n",
    "        file.write(sent + '\\n')"
   ]
  },
  {
   "cell_type": "code",
   "execution_count": null,
   "metadata": {},
   "outputs": [],
   "source": [
    "#25315"
   ]
  }
 ],
 "metadata": {
  "kernelspec": {
   "display_name": "Python 3",
   "language": "python",
   "name": "python3"
  },
  "language_info": {
   "codemirror_mode": {
    "name": "ipython",
    "version": 3
   },
   "file_extension": ".py",
   "mimetype": "text/x-python",
   "name": "python",
   "nbconvert_exporter": "python",
   "pygments_lexer": "ipython3",
   "version": "3.5.2"
  }
 },
 "nbformat": 4,
 "nbformat_minor": 2
}
